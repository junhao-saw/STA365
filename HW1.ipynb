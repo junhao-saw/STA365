{
 "cells": [
  {
   "cell_type": "markdown",
   "id": "4afdbc1f",
   "metadata": {},
   "source": [
    "# HW1 Solution by Jun Hao Saw\n",
    "\n",
    "Let the probabilities of winning games A, B, and C be denoted $\\theta_A$, $\\theta_B$, and $\\theta_C$ respectively. \n",
    "\n",
    "Let $(\\theta_A, \\theta_B, \\theta_C) = (0.3, 0.5, 0.7).$"
   ]
  },
  {
   "cell_type": "markdown",
   "id": "05b37bca",
   "metadata": {},
   "source": [
    "Now, assume that we no longer have any information about the probabilities of winning each game. \n",
    "This means that each parameter can take any value in $[0, 1]$. Assume that the priors of each parameter follow a uniform $\\mathcal{U}_{[0,1]}$ distribution. \n",
    "I can represent $\\mathcal{U}_{[0,1]}$ as a Beta(1, 1) distribution. This will be useful later since a beta distribution prior and Bernoulli distribution likelihood give a beta distribution posterior.\n",
    "\n",
    "### Code"
   ]
  },
  {
   "cell_type": "code",
   "execution_count": null,
   "id": "c0d1c486",
   "metadata": {},
   "outputs": [],
   "source": [
    "import numpy as np;from scipy import stats; import matplotlib.pyplot as plt\n",
    "\n",
    "real_probs_dict = {'A':0.3,'B':0.5,'C':0.7}\n",
    "games = ['A','B','C']\n",
    "\n",
    "def choose_game(priorA,priorB,priorC):\n",
    "    # Takes a sample of size one from the prior distributions of each game\n",
    "    # Returns the game which gave the maximal sample value\n",
    "    rv_A = stats.beta.rvs(a = priorA[0], b = priorA[1])\n",
    "    rv_B = stats.beta.rvs(a = priorB[0], b = priorB[1])\n",
    "    rv_C = stats.beta.rvs(a = priorC[0], b = priorC[1])\n",
    "    return games[np.argmax([rv_A,rv_B,rv_C])]\n",
    "\n",
    "def update_posterior(game, outcome, priorA, priorB, priorC):\n",
    "    # Returns the updated prior of the game played using the outcome \n",
    "    if game=='A':\n",
    "        priorA = (priorA[0] + outcome, priorA[1] + 1 - outcome)\n",
    "    elif game=='B':\n",
    "        priorB = (priorB[0] + outcome, priorB[1] + 1 - outcome)\n",
    "    elif game=='C':\n",
    "        priorC = (priorC[0] + outcome, priorC[1] + 1 - outcome)\n",
    "    return priorA, priorB, priorC\n",
    "\n",
    "def apply_strategy_once(priorA, priorB, priorC):\n",
    "    # Choose which game to play\n",
    "    game = choose_game(priorA, priorB, priorC)\n",
    "    # Determine the outcome of the game\n",
    "    outcome = stats.bernoulli(p = real_probs_dict[game]).rvs(size = 1)\n",
    "    # Update our prior belief about the winning probability of the game\n",
    "    priorA, priorB, priorC = update_posterior(game, outcome, priorA, priorB, priorC)\n",
    "    \n",
    "    return game, priorA, priorB, priorC\n",
    "\n",
    "priorA,priorB,priorC = (1,1),(1,1),(1,1)\n",
    "for i in range(100):\n",
    "    game,priorA,priorB,priorC = apply_strategy_once(priorA,priorB,priorC)\n",
    "    print('The game chosen is', game, priorA,priorB,priorC)"
   ]
  },
  {
   "cell_type": "markdown",
   "id": "84cb8f1f",
   "metadata": {},
   "source": [
    "Note that when the strategy is applied a large number of times, the only game that eventually ends up being selected is C. This makes sense since the probability of winning game C is the highest."
   ]
  },
  {
   "cell_type": "code",
   "execution_count": null,
   "id": "d3519e64",
   "metadata": {},
   "outputs": [],
   "source": [
    "parameter_domain = np.linspace(0,1,1001)\n",
    "\n",
    "pdfA = stats.beta(a=priorA[0],b=priorA[1]).pdf(parameter_domain)\n",
    "pdfB = stats.beta(a=priorB[0],b=priorB[1]).pdf(parameter_domain)\n",
    "pdfC = stats.beta(a=priorC[0],b=priorC[1]).pdf(parameter_domain)\n",
    "\n",
    "plt.figure(figsize=(12,4)); plt.plot(parameter_domain, pdfA, label=\"Game A\"); plt.plot(parameter_domain, pdfB, label=\"Game B\"); plt.plot(parameter_domain, pdfC, label=\"Game C\"); plt.legend(); plt.title(\"Visualization of densities of each game parameter after 100 applications of the strategy\"); "
   ]
  }
 ],
 "metadata": {
  "kernelspec": {
   "display_name": "Python 3 (ipykernel)",
   "language": "python",
   "name": "python3"
  },
  "language_info": {
   "codemirror_mode": {
    "name": "ipython",
    "version": 3
   },
   "file_extension": ".py",
   "mimetype": "text/x-python",
   "name": "python",
   "nbconvert_exporter": "python",
   "pygments_lexer": "ipython3",
   "version": "3.11.6"
  }
 },
 "nbformat": 4,
 "nbformat_minor": 5
}
